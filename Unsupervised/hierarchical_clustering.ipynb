{
 "cells": [
  {
   "cell_type": "markdown",
   "metadata": {},
   "source": [
    "# 11. Hierarchical clustering"
   ]
  },
  {
   "cell_type": "code",
   "execution_count": 4,
   "metadata": {},
   "outputs": [],
   "source": [
    "import numpy as np\n",
    "import matplotlib.pyplot as plt\n",
    "import scipy.cluster.hierarchy\n",
    "import scipy.spatial.distance"
   ]
  },
  {
   "cell_type": "markdown",
   "metadata": {},
   "source": [
    "## 11.4 Implementations with scipy"
   ]
  },
  {
   "cell_type": "code",
   "execution_count": 5,
   "metadata": {},
   "outputs": [],
   "source": [
    "X_ = np.array([2, 11, 5, 1, 7])\n",
    "X = X_[:, None]"
   ]
  },
  {
   "cell_type": "code",
   "execution_count": 6,
   "metadata": {},
   "outputs": [
    {
     "name": "stdout",
     "output_type": "stream",
     "text": [
      "[[ 0.  9.  3.  1.  5.]\n",
      " [ 9.  0.  6. 10.  4.]\n",
      " [ 3.  6.  0.  4.  2.]\n",
      " [ 1. 10.  4.  0.  6.]\n",
      " [ 5.  4.  2.  6.  0.]]\n"
     ]
    }
   ],
   "source": [
    "# Shortest distance method\n",
    "\n",
    "# Distance matrix\n",
    "D = scipy.spatial.distance.pdist(X, 'cityblock')\n",
    "print(scipy.spatial.distance.squareform(D))"
   ]
  },
  {
   "cell_type": "code",
   "execution_count": 7,
   "metadata": {},
   "outputs": [
    {
     "name": "stdout",
     "output_type": "stream",
     "text": [
      "[[0. 3. 1. 2.]\n",
      " [2. 4. 2. 2.]\n",
      " [5. 6. 3. 4.]\n",
      " [1. 7. 4. 5.]]\n"
     ]
    }
   ],
   "source": [
    "# Clustering\n",
    "Z = scipy.cluster.hierarchy.linkage(D, 'single')\n",
    "print(Z)"
   ]
  },
  {
   "cell_type": "code",
   "execution_count": 8,
   "metadata": {},
   "outputs": [
    {
     "data": {
      "image/png": "[encoded data removed]",
      "text/plain": [
       "<Figure size 600x400 with 1 Axes>"
      ]
     },
     "metadata": {
      "needs_background": "light"
     },
     "output_type": "display_data"
    }
   ],
   "source": [
    "# Dendrogram\n",
    "fig, ax = plt.subplots(dpi=100)\n",
    "dn = scipy.cluster.hierarchy.dendrogram(Z, labels=list(X_), ax=ax)\n",
    "ax.set_ylabel(\"Distance\")\n",
    "plt.show()"
   ]
  },
  {
   "cell_type": "code",
   "execution_count": 9,
   "metadata": {},
   "outputs": [
    {
     "name": "stdout",
     "output_type": "stream",
     "text": [
      "[ 2 11  5  1  7]\n",
      "Threshold = 1.5: [1 4 2 1 3]\n",
      "Threshold = 2.5: [1 3 2 1 2]\n",
      "Threshold = 3.5: [1 2 1 1 1]\n",
      "Threshold = 4.5: [1 1 1 1 1]\n"
     ]
    }
   ],
   "source": [
    "# Set threshold\n",
    "print(X_)\n",
    "print(f'Threshold = 1.5: {scipy.cluster.hierarchy.fcluster(Z, t=1.5, criterion=\"distance\")}')\n",
    "print(f'Threshold = 2.5: {scipy.cluster.hierarchy.fcluster(Z, t=2.5, criterion=\"distance\")}')\n",
    "print(f'Threshold = 3.5: {scipy.cluster.hierarchy.fcluster(Z, t=3.5, criterion=\"distance\")}')\n",
    "print(f'Threshold = 4.5: {scipy.cluster.hierarchy.fcluster(Z, t=4.5, criterion=\"distance\")}')"
   ]
  },
  {
   "cell_type": "code",
   "execution_count": 10,
   "metadata": {},
   "outputs": [
    {
     "name": "stdout",
     "output_type": "stream",
     "text": [
      "[1 3 2 1 2]\n"
     ]
    }
   ],
   "source": [
    "# Set number of clusters\n",
    "print(scipy.cluster.hierarchy.fcluster(Z, t=3, criterion='maxclust'))"
   ]
  },
  {
   "cell_type": "code",
   "execution_count": 11,
   "metadata": {},
   "outputs": [
    {
     "name": "stdout",
     "output_type": "stream",
     "text": [
      "[[ 0.  3.  1.  2.]\n",
      " [ 2.  4.  2.  2.]\n",
      " [ 1.  6.  6.  3.]\n",
      " [ 5.  7. 10.  5.]]\n"
     ]
    },
    {
     "data": {
      "image/png": "[encoded data removed]",
      "text/plain": [
       "<Figure size 600x400 with 1 Axes>"
      ]
     },
     "metadata": {
      "needs_background": "light"
     },
     "output_type": "display_data"
    }
   ],
   "source": [
    "# Longest distance method\n",
    "Z = scipy.cluster.hierarchy.linkage(X, 'complete', metric='cityblock')\n",
    "print(Z)\n",
    "\n",
    "fig, ax = plt.subplots(dpi=100)\n",
    "dn = scipy.cluster.hierarchy.dendrogram(Z, labels=list(X_), ax=ax)\n",
    "ax.set_ylabel(\"Distance\")\n",
    "plt.show()"
   ]
  },
  {
   "cell_type": "markdown",
   "metadata": {},
   "source": [
    "## 11.5 Implementations by myself"
   ]
  },
  {
   "cell_type": "code",
   "execution_count": 12,
   "metadata": {},
   "outputs": [
    {
     "data": {
      "text/plain": [
       "array([[ 2],\n",
       "       [11],\n",
       "       [ 5],\n",
       "       [ 1],\n",
       "       [ 7]])"
      ]
     },
     "execution_count": 12,
     "metadata": {},
     "output_type": "execute_result"
    }
   ],
   "source": [
    "X_ = np.array([2, 11, 5, 1, 7])\n",
    "X = X_.reshape(-1, 1)\n",
    "X"
   ]
  },
  {
   "cell_type": "code",
   "execution_count": 13,
   "metadata": {},
   "outputs": [],
   "source": [
    "def distance_matrix_l1(X):\n",
    "    return np.abs(X - X.reshape(-1)).astype(float)"
   ]
  },
  {
   "cell_type": "code",
   "execution_count": 14,
   "metadata": {},
   "outputs": [
    {
     "data": {
      "text/plain": [
       "array([[ 0.,  9.,  3.,  1.,  5.],\n",
       "       [ 9.,  0.,  6., 10.,  4.],\n",
       "       [ 3.,  6.,  0.,  4.,  2.],\n",
       "       [ 1., 10.,  4.,  0.,  6.],\n",
       "       [ 5.,  4.,  2.,  6.,  0.]])"
      ]
     },
     "execution_count": 14,
     "metadata": {},
     "output_type": "execute_result"
    }
   ],
   "source": [
    "distance_matrix_l1(X)"
   ]
  },
  {
   "cell_type": "code",
   "execution_count": 15,
   "metadata": {},
   "outputs": [],
   "source": [
    "# Shortest method\n",
    "def single_linkage(D):\n",
    "    C = np.ones(len(D) * 2 - 1) # C[k] = |Ck|\n",
    "    Z = np.zeros((len(D) - 1, 4), dtype=float) # results of clustering\n",
    "    M = np.pad(D, (0, len(D) - 1), constant_values=np.inf) # Extended distance matrix\n",
    "    np.fill_diagonal(M, np.inf)\n",
    "\n",
    "    print(\"* t=0\")\n",
    "    print(M)\n",
    "\n",
    "    for t in range(len(D), 2 * len(D) - 1):\n",
    "\n",
    "        # Find the pair of the closest clusters\n",
    "        S = M[:t, :t]\n",
    "        i, j = np.unravel_index(np.argmin(S), S.shape)\n",
    "        print('argmin =', (i, j))\n",
    "\n",
    "        # Record the number of elements in the new cluster\n",
    "        C[t] = C[i] + C[j]\n",
    "\n",
    "        # Record the new cluster\n",
    "        Z[t-len(D)] = (i, j, S[i, j], C[t])\n",
    "\n",
    "        # Remove the distance between i and j\n",
    "        M[i, j] = np.inf\n",
    "        M[j, i] = np.inf\n",
    "\n",
    "        # Compute distance between the new cluster and the others\n",
    "        M[t] = np.minimum(M[i], M[j])\n",
    "        M[:, t] = np.minimum(M[:, i], M[:, j])\n",
    "\n",
    "        # Remove the distance for clusters i and j\n",
    "        M[i] = np.inf\n",
    "        M[j] = np.inf\n",
    "        M[:, i] = np.inf\n",
    "        M[:, j] = np.inf\n",
    "\n",
    "        # Show result\n",
    "        print(f'* t={t}')\n",
    "        print(M)\n",
    "    \n",
    "    return Z"
   ]
  },
  {
   "cell_type": "code",
   "execution_count": 16,
   "metadata": {},
   "outputs": [
    {
     "name": "stdout",
     "output_type": "stream",
     "text": [
      "* t=0\n",
      "[[inf  9.  3.  1.  5. inf inf inf inf]\n",
      " [ 9. inf  6. 10.  4. inf inf inf inf]\n",
      " [ 3.  6. inf  4.  2. inf inf inf inf]\n",
      " [ 1. 10.  4. inf  6. inf inf inf inf]\n",
      " [ 5.  4.  2.  6. inf inf inf inf inf]\n",
      " [inf inf inf inf inf inf inf inf inf]\n",
      " [inf inf inf inf inf inf inf inf inf]\n",
      " [inf inf inf inf inf inf inf inf inf]\n",
      " [inf inf inf inf inf inf inf inf inf]]\n",
      "argmin = (0, 3)\n",
      "* t=5\n",
      "[[inf inf inf inf inf inf inf inf inf]\n",
      " [inf inf  6. inf  4.  9. inf inf inf]\n",
      " [inf  6. inf inf  2.  3. inf inf inf]\n",
      " [inf inf inf inf inf inf inf inf inf]\n",
      " [inf  4.  2. inf inf  5. inf inf inf]\n",
      " [inf  9.  3. inf  5. inf inf inf inf]\n",
      " [inf inf inf inf inf inf inf inf inf]\n",
      " [inf inf inf inf inf inf inf inf inf]\n",
      " [inf inf inf inf inf inf inf inf inf]]\n",
      "argmin = (2, 4)\n",
      "* t=6\n",
      "[[inf inf inf inf inf inf inf inf inf]\n",
      " [inf inf inf inf inf  9.  4. inf inf]\n",
      " [inf inf inf inf inf inf inf inf inf]\n",
      " [inf inf inf inf inf inf inf inf inf]\n",
      " [inf inf inf inf inf inf inf inf inf]\n",
      " [inf  9. inf inf inf inf  3. inf inf]\n",
      " [inf  4. inf inf inf  3. inf inf inf]\n",
      " [inf inf inf inf inf inf inf inf inf]\n",
      " [inf inf inf inf inf inf inf inf inf]]\n",
      "argmin = (5, 6)\n",
      "* t=7\n",
      "[[inf inf inf inf inf inf inf inf inf]\n",
      " [inf inf inf inf inf inf inf  4. inf]\n",
      " [inf inf inf inf inf inf inf inf inf]\n",
      " [inf inf inf inf inf inf inf inf inf]\n",
      " [inf inf inf inf inf inf inf inf inf]\n",
      " [inf inf inf inf inf inf inf inf inf]\n",
      " [inf inf inf inf inf inf inf inf inf]\n",
      " [inf  4. inf inf inf inf inf inf inf]\n",
      " [inf inf inf inf inf inf inf inf inf]]\n",
      "argmin = (1, 7)\n",
      "* t=8\n",
      "[[inf inf inf inf inf inf inf inf inf]\n",
      " [inf inf inf inf inf inf inf inf inf]\n",
      " [inf inf inf inf inf inf inf inf inf]\n",
      " [inf inf inf inf inf inf inf inf inf]\n",
      " [inf inf inf inf inf inf inf inf inf]\n",
      " [inf inf inf inf inf inf inf inf inf]\n",
      " [inf inf inf inf inf inf inf inf inf]\n",
      " [inf inf inf inf inf inf inf inf inf]\n",
      " [inf inf inf inf inf inf inf inf inf]]\n"
     ]
    }
   ],
   "source": [
    "D = distance_matrix_l1(X)\n",
    "Z = single_linkage(D)"
   ]
  },
  {
   "cell_type": "code",
   "execution_count": 17,
   "metadata": {},
   "outputs": [
    {
     "data": {
      "image/png": "[encoded data removed]",
      "text/plain": [
       "<Figure size 600x400 with 1 Axes>"
      ]
     },
     "metadata": {
      "needs_background": "light"
     },
     "output_type": "display_data"
    }
   ],
   "source": [
    "fig, ax = plt.subplots(dpi=100)\n",
    "dn = scipy.cluster.hierarchy.dendrogram(Z, labels=list(X_), ax=ax)\n",
    "ax.set_ylabel(\"Distance\")\n",
    "plt.show()"
   ]
  },
  {
   "cell_type": "markdown",
   "metadata": {},
   "source": [
    "## 11.6 Exercise"
   ]
  },
  {
   "cell_type": "code",
   "execution_count": 18,
   "metadata": {},
   "outputs": [
    {
     "data": {
      "text/plain": [
       "<bound method DataFrame.info of    SSDSE-C-2021 Prefecture   City  LA03     LB00   LB01 LB011001 LB012001  \\\n",
       "0         地域コード       都道府県      市  世帯人員   食料（合計）  01　穀類        米      食パン   \n",
       "1        R00000         全国     全国  2.97   960026  79312    23815     9860   \n",
       "2        R01100        北海道    札幌市  2.91   939747  82676    31228     9075   \n",
       "3        R02201        青森県    青森市  2.93   897288  73381    23652     8492   \n",
       "4        R03201        岩手県    盛岡市  3.11   950535  80606    25033     8472   \n",
       "5        R04100        宮城県    仙台市  3.03   968029  73349    20338     8630   \n",
       "6        R05201        秋田県    秋田市  2.78   910130  67703    19704     6918   \n",
       "7        R06201        山形県    山形市  3.14   983054  79164    26068     7478   \n",
       "8        R07201        福島県    福島市  2.96   937721  73338    23738     7482   \n",
       "9        R08201        茨城県    水戸市  2.88   924724  69248    19099     8878   \n",
       "10       R09201        栃木県   宇都宮市  2.91   964692  76447    21578    10035   \n",
       "11       R10201        群馬県    前橋市  2.84   934278  80830    26212     8157   \n",
       "12       R11100        埼玉県  さいたま市  3.02  1055306  83194    24077     9800   \n",
       "13       R12100        千葉県    千葉市  3.01  1032661  81387    22785    10799   \n",
       "14       R13100        東京都  東京都区部  2.95  1136325  83171    22668    11473   \n",
       "15       R14100       神奈川県    横浜市  2.84  1049903  83949    24387    11043   \n",
       "16       R15100        新潟県    新潟市  3.16   959654  80518    23059    10007   \n",
       "17       R16201        富山県    富山市  3.16  1024049  83545    24795    10537   \n",
       "18       R17201        石川県    金沢市  3.22  1040076  85690    24478    11945   \n",
       "19       R18201        福井県    福井市  3.05   966734  84726    29070     8829   \n",
       "20       R19201        山梨県    甲府市  2.89   952544  75241    22714     8886   \n",
       "21       R20201        長野県    長野市  2.91   932793  72550    21729     7900   \n",
       "22       R21201        岐阜県    岐阜市  3.05   969734  78232    23715    10325   \n",
       "23       R22100        静岡県    静岡市  2.98  1011480  86921    30250     9506   \n",
       "24       R23100        愛知県   名古屋市  3.01   973091  81688    24821    11032   \n",
       "25       R24201        三重県     津市  2.95   953713  76327    20856     9563   \n",
       "26       R25201        滋賀県    大津市  3.00  1013443  83588    23426    10801   \n",
       "27       R26100        京都府    京都市  2.90   982902  83008    23536    11200   \n",
       "28       R27100        大阪府    大阪市  2.96   987592  85629    25707    11156   \n",
       "29       R28100        兵庫県    神戸市  2.86   959080  84068    22068    12123   \n",
       "30       R29201        奈良県    奈良市  2.86  1010888  81965    23121    11825   \n",
       "31       R30201       和歌山県   和歌山市  2.80   843467  77669    23858    11468   \n",
       "32       R31201        鳥取県    鳥取市  3.24   934631  80231    21399    12177   \n",
       "33       R32201        島根県    松江市  2.95   911356  73729    20049    11089   \n",
       "34       R33100        岡山県    岡山市  3.10   907674  80246    19287    10402   \n",
       "35       R34100        広島県    広島市  2.99   973315  77928    20875    11297   \n",
       "36       R35203        山口県    山口市  3.09   905967  72138    18837     9374   \n",
       "37       R36201        徳島県    徳島市  2.92   912747  75530    20430     9859   \n",
       "38       R37201        香川県    高松市  3.01   915872  77134    18003    10980   \n",
       "39       R38201        愛媛県    松山市  2.92   849826  73280    19816     9010   \n",
       "40       R39201        高知県    高知市  3.02   959481  74134    23015    11262   \n",
       "41       R40130        福岡県    福岡市  2.94   947586  74951    21775     9098   \n",
       "42       R41201        佐賀県    佐賀市  2.92   931653  73234    23649     9175   \n",
       "43       R42201        長崎県    長崎市  2.74   881283  76843    25396     8890   \n",
       "44       R43100        熊本県    熊本市  3.09   883412  70424    21286     8951   \n",
       "45       R44201        大分県    大分市  2.83   866559  69206    20533     9413   \n",
       "46       R45201        宮崎県    宮崎市  2.90   856441  66562    20347     7619   \n",
       "47       R46201       鹿児島県   鹿児島市  2.86   893202  71903    23590     7777   \n",
       "48       R47201        沖縄県    那覇市  2.96   797050  71249    27626     7717   \n",
       "\n",
       "   LB012002 LB013001  ... LB121104 LB121105 LB121106 LB121107 LB121108  \\\n",
       "0      他のパン  生うどん・そば  ...   すし（外食）       和食      中華食       洋食       焼肉   \n",
       "1     21531     3444  ...    14243    21324     4565    11489     6660   \n",
       "2     18168     3162  ...    17952    23564     4305    16732     7230   \n",
       "3     16749     2964  ...    13418    14808     3265     8383     6743   \n",
       "4     20153     3349  ...    12220     8996     1841     6375     5819   \n",
       "5     19618     3068  ...    13511    15886     3326     8193     6682   \n",
       "6     17236     3231  ...    13367    13629     2396     6164     6507   \n",
       "7     18158     4478  ...    17761    19908     5141    15864     7441   \n",
       "8     17751     2963  ...    14835    22053     2670    11883     4425   \n",
       "9     18251     3353  ...    13067    25020     4915    20723     6079   \n",
       "10    19362     3908  ...    15469    23501     4682    18961     4983   \n",
       "11    22282     4563  ...    10491    18251     4154    11359     5949   \n",
       "12    23709     4016  ...    12449    24558     4922    17397     7259   \n",
       "13    23263     3389  ...    15363    21078     5587    12591     7085   \n",
       "14    24681     3088  ...    16575    25138     6855    16282     7222   \n",
       "15    23430     3410  ...    14366    25178     7715    17552     4344   \n",
       "16    21514     2697  ...    12686    16884     2897     7184     4446   \n",
       "17    22156     3294  ...    16296    25251     3909    12037     6967   \n",
       "18    23456     3597  ...    21364    28568     4870    13937     9584   \n",
       "19    22824     4124  ...    20345    28796     3949     9294    10910   \n",
       "20    20687     3870  ...    18716    22295     4753    13040     7535   \n",
       "21    18568     4075  ...    14008    19229     3936    12186     7072   \n",
       "22    20686     3154  ...    19765    42948     7344    18478    10628   \n",
       "23    22154     3045  ...    18720    27593     7697    15094     6766   \n",
       "24    20678     3991  ...    15305    32605     7069    17965     8807   \n",
       "25    22254     3720  ...    14523    23014     3764     8514     7353   \n",
       "26    24832     3835  ...    14299    19060     5303    10229     5334   \n",
       "27    25116     3816  ...    11924    17363     5025     8879     5687   \n",
       "28    24908     3999  ...    14407    27198     5947    11135     6593   \n",
       "29    26312     3437  ...    11249    18869     5766     8380     5998   \n",
       "30    23003     3543  ...    16470    26103     5214    11087     8207   \n",
       "31    21016     3024  ...    10959    19376     3751     7446     5192   \n",
       "32    21734     3455  ...    13615    22269     4093    10523     5625   \n",
       "33    18942     3456  ...    11971    18033     3484     5700     7777   \n",
       "34    26548     3384  ...    11886    17126     3232     7225     7688   \n",
       "35    22932     3285  ...    10369    19794     3178     6915     7284   \n",
       "36    20559     3426  ...    11237    25811     2907    13595     6839   \n",
       "37    22942     3692  ...    12630    16829     3067     6833     6410   \n",
       "38    21076     6558  ...    12744    29590     4852    15335     8368   \n",
       "39    22919     3744  ...     9866    15165     2423     4683     6103   \n",
       "40    17720     3333  ...    19031    21992     3887    12303    14351   \n",
       "41    22517     2877  ...    11685    18583     4034     8424     7208   \n",
       "42    19130     2428  ...    14324    37136     4100    13497     9043   \n",
       "43    21537     2556  ...     9078    16191     2441     6113     4037   \n",
       "44    19603     2307  ...    12573    23677     3292    10682     8858   \n",
       "45    18949     2493  ...    11633    22468     2484     9293    10850   \n",
       "46    18307     2668  ...    11594    16942     2003     6887     6124   \n",
       "47    18850     2868  ...    13452    23538     2009    10915     7696   \n",
       "48    17085     1753  ...     5913    18110     1532     7887     3816   \n",
       "\n",
       "   LB121109 LB121110 LB121201 LB121202 LB122001  \n",
       "0    ハンバーガー  他の主食的外食      喫茶代      飲酒代     学校給食  \n",
       "1      4592    49538     6705    16053     9697  \n",
       "2      3742    19689     5354    22474    13769  \n",
       "3      3498    13999     2848    11835    11021  \n",
       "4      3297    42189     4609    17910     9967  \n",
       "5      3971    39404     5194    11468     8883  \n",
       "6      2973    28542     3561    14504    11875  \n",
       "7      4066    20702     4863    19682    11997  \n",
       "8      3909    22844     3650    15252    10952  \n",
       "9      4653    24749     6585    14846    13393  \n",
       "10     5373    31242     6250    14462    11571  \n",
       "11     5112    49166     5245    10329     9549  \n",
       "12     5820    70345     8677    19835     9201  \n",
       "13     5355    61778     6488    18976    12119  \n",
       "14     5465    95222    11470    27206     9321  \n",
       "15     4852    56238     8828    19812     4678  \n",
       "16     3803    32092     5854    18143    12742  \n",
       "17     4517    41541     5200    18143    14563  \n",
       "18     5456    44365     6695    19453    18355  \n",
       "19     3900    27935     6240    12890    13708  \n",
       "20     5915    38101     5520    17109    11749  \n",
       "21     3138    46257     4969    22938     8811  \n",
       "22     5870    36339    13564    13308    13820  \n",
       "23     4963    35038     5469    18188    10612  \n",
       "24     5495    54560    10962    14006     8955  \n",
       "25     5022    60669     6153    11271     9377  \n",
       "26     4477    57386     6803    13496     9468  \n",
       "27     3614    66293     7017    11945     6404  \n",
       "28     5073    51621     7277    15388     6218  \n",
       "29     4843    63329     9001    12503     6254  \n",
       "30     4859    44601     8049    15339     8123  \n",
       "31     3941    42961     5431     5770     6099  \n",
       "32     4511    28671     6089    12446    18225  \n",
       "33     4398    46972     5306    22900    11514  \n",
       "34     5508    63163     7059    12390    10938  \n",
       "35     4845    54751     5621    12894     7904  \n",
       "36     4818    20939     5112    14046    16869  \n",
       "37     6111    56239     5125    14954    11236  \n",
       "38     6354    31414     7117    13784    16743  \n",
       "39     4919    41729     4318     9835     9480  \n",
       "40     5227    32802     5674    29457    12828  \n",
       "41     4712    65254     6845    18748    11384  \n",
       "42     4513    26203     4949    16494     9652  \n",
       "43     2360    62234     4115    14480     4846  \n",
       "44     5632    42623     3690    22106    13405  \n",
       "45     5877    25440     5468    18891    12311  \n",
       "46     4178    45048     3356    16604    12469  \n",
       "47     4667    38852     3801    14898    14154  \n",
       "48     5899    43206     3746    16485     9152  \n",
       "\n",
       "[49 rows x 229 columns]>"
      ]
     },
     "execution_count": 18,
     "metadata": {},
     "output_type": "execute_result"
    }
   ],
   "source": [
    "import pandas as pd\n",
    "\n",
    "df = pd.read_csv('SSDSE-C-2021.csv', encoding='SHIFT=JIS')\n",
    "\n",
    "df.info"
   ]
  },
  {
   "cell_type": "code",
   "execution_count": 19,
   "metadata": {},
   "outputs": [
    {
     "name": "stdout",
     "output_type": "stream",
     "text": [
      "(47, 226)\n",
      "[[2.91000e+00 9.39747e+05 8.26760e+04 3.12280e+04 9.07500e+03 1.81680e+04\n",
      "  3.16200e+03 2.08200e+03 1.26600e+03 4.15200e+03 5.18900e+03 1.60900e+03\n",
      "  7.26000e+02 6.64000e+02 1.93600e+03 3.42000e+03 8.44090e+04 4.89900e+03\n",
      "  1.83000e+02 2.82000e+02 9.36000e+02 1.67200e+03 7.43100e+03 7.60000e+02\n",
      "  1.08600e+03 5.22000e+02 1.26600e+03 2.08700e+03 1.41500e+03 3.40200e+03\n",
      "  1.96800e+03 8.73500e+03 3.87800e+03 6.85000e+02 5.44000e+02 8.40000e+02\n",
      "  2.40800e+03 8.07000e+02 3.09600e+03 2.40900e+03 8.48000e+02 2.35000e+02\n",
      "  1.00600e+04 1.53800e+03 1.44200e+03 3.78800e+03 1.25800e+03 6.49000e+02\n",
      "  5.10200e+03 5.92000e+02 2.96400e+03 4.62200e+03 8.89240e+04 1.24470e+04\n",
      "  3.29400e+04 1.61860e+04 1.78100e+03 4.94400e+03 4.44900e+03 8.16600e+03\n",
      "  3.46000e+03 4.55300e+03 4.36230e+04 1.30700e+04 1.14000e+03 1.11200e+04\n",
      "  1.65900e+03 7.47600e+03 5.26000e+02 8.63200e+03 1.09625e+05 3.10000e+03\n",
      "  2.64300e+03 1.64000e+03 3.32400e+03 2.49400e+03 2.26800e+03 1.08500e+03\n",
      "  8.98000e+03 1.36600e+03 2.72400e+03 3.60000e+02 1.93000e+03 2.43500e+03\n",
      "  1.03800e+03 3.78100e+03 6.50000e+02 9.19000e+02 3.65500e+03 1.54000e+03\n",
      "  1.91300e+03 3.29400e+03 2.32300e+03 8.23500e+03 2.68600e+03 1.94200e+03\n",
      "  1.63600e+03 9.74000e+02 2.63100e+03 3.73700e+03 4.80000e+02 5.56000e+02\n",
      "  2.73100e+03 1.23800e+03 8.43000e+02 2.55500e+03 4.64500e+03 2.22200e+03\n",
      "  4.71800e+03 6.91000e+02 1.97600e+03 1.83400e+03 8.00000e+02 2.99000e+02\n",
      "  5.18400e+03 9.78000e+02 3.15000e+02 2.25700e+03 4.02360e+04 4.93100e+03\n",
      "  4.65000e+03 6.46000e+02 2.63400e+03 7.89000e+02 2.43600e+03 1.45600e+03\n",
      "  8.22000e+02 1.43300e+03 2.90200e+03 2.46200e+03 5.34300e+03 2.08400e+03\n",
      "  4.08700e+03 3.56100e+03 4.21870e+04 3.83900e+03 4.80000e+02 4.66000e+02\n",
      "  1.57400e+03 1.97600e+03 9.74000e+02 8.28000e+02 7.17000e+02 6.65000e+02\n",
      "  1.29300e+03 1.79100e+03 1.00800e+03 1.53000e+03 2.95000e+03 2.51000e+03\n",
      "  1.46100e+03 5.36200e+03 1.27620e+04 8.78970e+04 6.09000e+02 6.21000e+02\n",
      "  1.01370e+04 7.26000e+02 7.98000e+03 1.95400e+03 1.28900e+03 8.67800e+03\n",
      "  4.53900e+03 4.00100e+03 6.81700e+03 2.42600e+03 8.10500e+03 2.22000e+03\n",
      "  9.75500e+03 1.80380e+04 9.81890e+04 1.10570e+04 1.05950e+04 4.41200e+03\n",
      "  4.81800e+03 9.99300e+03 1.39100e+03 3.68000e+03 1.08300e+03 1.17300e+03\n",
      "  1.00640e+04 7.95000e+02 1.84700e+03 2.62900e+03 9.96000e+02 6.32400e+03\n",
      "  1.75900e+03 2.55720e+04 5.56540e+04 3.17000e+03 8.52000e+02 1.32700e+03\n",
      "  6.68600e+03 7.77300e+03 4.38700e+03 3.39000e+02 7.63600e+03 7.71000e+03\n",
      "  2.65900e+03 1.97200e+03 3.15400e+03 1.42900e+03 6.56100e+03 5.67000e+04\n",
      "  6.44600e+03 5.63200e+03 1.59220e+04 3.66500e+03 5.30100e+03 1.36670e+04\n",
      "  4.49300e+03 1.57300e+03 1.49627e+05 5.94700e+03 7.03300e+03 1.83600e+03\n",
      "  1.79520e+04 2.35640e+04 4.30500e+03 1.67320e+04 7.23000e+03 3.74200e+03\n",
      "  1.96890e+04 5.35400e+03 2.24740e+04 1.37690e+04]\n",
      " [2.93000e+00 8.97288e+05 7.33810e+04 2.36520e+04 8.49200e+03 1.67490e+04\n",
      "  2.96400e+03 2.22400e+03 1.11400e+03 5.27100e+03 6.08800e+03 2.03900e+03\n",
      "  5.54000e+02 5.93000e+02 1.38700e+03 2.25300e+03 9.10380e+04 5.20700e+03\n",
      "  6.68000e+02 7.71000e+02 1.22900e+03 1.80900e+03 6.70600e+03 6.99000e+02\n",
      "  1.19100e+03 6.05000e+02 1.95500e+03 3.02700e+03 1.13600e+03 2.84300e+03\n",
      "  1.67900e+03 8.90600e+03 2.86800e+03 4.60000e+02 9.18000e+02 3.72000e+02\n",
      "  3.81200e+03 8.96000e+02 3.28400e+03 3.50500e+03 8.60000e+02 4.59000e+02\n",
      "  1.20820e+04 1.53500e+03 1.72200e+03 2.80600e+03 1.18800e+03 5.46000e+02\n",
      "  6.73100e+03 5.27000e+02 3.75700e+03 4.27900e+03 8.51240e+04 1.46500e+04\n",
      "  3.11140e+04 1.41760e+04 1.33700e+03 3.06900e+03 4.48700e+03 8.92600e+03\n",
      "  3.21900e+03 4.14600e+03 4.12470e+04 1.32390e+04 7.39000e+02 1.22300e+04\n",
      "  1.14200e+03 5.62500e+03 4.76000e+02 7.79800e+03 1.10936e+05 3.27800e+03\n",
      "  2.52500e+03 1.19200e+03 2.90200e+03 2.57200e+03 2.56500e+03 1.40700e+03\n",
      "  7.75100e+03 8.57000e+02 1.97500e+03 2.61000e+02 1.74900e+03 2.33000e+03\n",
      "  1.26300e+03 3.64500e+03 6.70000e+02 6.72000e+02 4.36800e+03 2.15400e+03\n",
      "  1.27800e+03 3.23800e+03 2.66100e+03 8.46600e+03 2.03900e+03 2.20600e+03\n",
      "  1.71500e+03 1.06000e+03 3.16100e+03 3.03900e+03 2.74000e+02 2.94000e+02\n",
      "  2.54700e+03 1.96300e+03 1.29800e+03 3.05300e+03 4.85000e+03 2.43900e+03\n",
      "  5.53700e+03 9.50000e+02 2.51800e+03 1.96100e+03 1.21700e+03 4.58000e+02\n",
      "  4.81400e+03 1.18600e+03 2.68000e+02 2.31200e+03 3.96270e+04 9.49400e+03\n",
      "  3.54600e+03 6.68000e+02 2.09600e+03 7.68000e+02 1.71400e+03 1.12400e+03\n",
      "  7.02000e+02 1.14800e+03 1.79800e+03 2.59700e+03 5.19200e+03 1.97900e+03\n",
      "  3.68200e+03 3.12000e+03 4.22680e+04 3.89400e+03 7.23000e+02 4.80000e+02\n",
      "  1.58400e+03 1.95800e+03 1.04500e+03 1.02200e+03 7.54000e+02 5.87000e+02\n",
      "  1.20500e+03 1.88900e+03 1.14600e+03 1.51800e+03 3.27500e+03 1.87000e+03\n",
      "  1.35900e+03 5.46000e+03 1.24990e+04 7.97450e+04 5.98000e+02 4.35000e+02\n",
      "  7.73000e+03 4.89000e+02 6.78600e+03 2.05800e+03 1.54200e+03 8.17400e+03\n",
      "  5.24600e+03 3.22800e+03 5.63600e+03 1.91600e+03 5.47100e+03 1.90100e+03\n",
      "  9.14200e+03 1.93910e+04 1.15090e+05 1.52790e+04 1.30340e+04 3.46200e+03\n",
      "  5.20500e+03 1.16550e+04 1.85900e+03 4.61300e+03 1.85400e+03 2.09800e+03\n",
      "  1.12530e+04 7.19000e+02 1.66900e+03 4.00000e+03 1.54700e+03 7.16900e+03\n",
      "  1.10000e+03 2.85750e+04 5.94340e+04 2.20500e+03 3.88000e+02 1.33900e+03\n",
      "  7.72800e+03 7.01300e+03 5.70400e+03 3.54000e+02 9.80700e+03 8.04400e+03\n",
      "  3.40300e+03 2.04300e+03 2.03800e+03 1.48300e+03 7.88500e+03 5.47210e+04\n",
      "  6.50300e+03 8.18200e+03 1.31900e+04 3.82900e+03 3.70200e+03 1.33990e+04\n",
      "  4.71400e+03 1.20400e+03 1.04675e+05 4.61800e+03 9.42000e+03 8.19000e+02\n",
      "  1.34180e+04 1.48080e+04 3.26500e+03 8.38300e+03 6.74300e+03 3.49800e+03\n",
      "  1.39990e+04 2.84800e+03 1.18350e+04 1.10210e+04]]\n"
     ]
    }
   ],
   "source": [
    "X_pd = df.drop(['SSDSE-C-2021', 'Prefecture', 'City'], axis=1)\n",
    "X = X_pd[2:].values.astype(float)\n",
    "print(X.shape)\n",
    "print(X[:2])"
   ]
  },
  {
   "cell_type": "code",
   "execution_count": 22,
   "metadata": {},
   "outputs": [
    {
     "data": {
      "text/plain": [
       "['北海道',\n",
       " '青森県',\n",
       " '岩手県',\n",
       " '宮城県',\n",
       " '秋田県',\n",
       " '山形県',\n",
       " '福島県',\n",
       " '茨城県',\n",
       " '栃木県',\n",
       " '群馬県',\n",
       " '埼玉県',\n",
       " '千葉県',\n",
       " '東京都',\n",
       " '神奈川県',\n",
       " '新潟県',\n",
       " '富山県',\n",
       " '石川県',\n",
       " '福井県',\n",
       " '山梨県',\n",
       " '長野県',\n",
       " '岐阜県',\n",
       " '静岡県',\n",
       " '愛知県',\n",
       " '三重県',\n",
       " '滋賀県',\n",
       " '京都府',\n",
       " '大阪府',\n",
       " '兵庫県',\n",
       " '奈良県',\n",
       " '和歌山県',\n",
       " '鳥取県',\n",
       " '島根県',\n",
       " '岡山県',\n",
       " '広島県',\n",
       " '山口県',\n",
       " '徳島県',\n",
       " '香川県',\n",
       " '愛媛県',\n",
       " '高知県',\n",
       " '福岡県',\n",
       " '佐賀県',\n",
       " '長崎県',\n",
       " '熊本県',\n",
       " '大分県',\n",
       " '宮崎県',\n",
       " '鹿児島県',\n",
       " '沖縄県']"
      ]
     },
     "execution_count": 22,
     "metadata": {},
     "output_type": "execute_result"
    }
   ],
   "source": [
    "df['Prefecture'].tolist()[2:]"
   ]
  },
  {
   "cell_type": "code",
   "execution_count": 36,
   "metadata": {},
   "outputs": [
    {
     "data": {
      "image/png": "[encoded data removed]",
      "text/plain": [
       "<Figure size 1080x720 with 1 Axes>"
      ]
     },
     "metadata": {
      "needs_background": "light"
     },
     "output_type": "display_data"
    }
   ],
   "source": [
    "# Shortest distance method\n",
    "Z = scipy.cluster.hierarchy.linkage(X, 'single', metric='cityblock')\n",
    "\n",
    "fig, ax = plt.subplots(figsize=(15, 10))\n",
    "plt.rcParams['font.family'] = 'Meiryo'\n",
    "dn = scipy.cluster.hierarchy.dendrogram(Z, labels=df['Prefecture'].tolist()[2:], ax=ax)\n",
    "ax.set_ylabel(\"Distance\")\n",
    "plt.show()"
   ]
  },
  {
   "cell_type": "code",
   "execution_count": 38,
   "metadata": {},
   "outputs": [
    {
     "data": {
      "image/png": "[encoded data removed]",
      "text/plain": [
       "<Figure size 1080x720 with 1 Axes>"
      ]
     },
     "metadata": {
      "needs_background": "light"
     },
     "output_type": "display_data"
    }
   ],
   "source": [
    "# Longest distance method\n",
    "Z = scipy.cluster.hierarchy.linkage(X, 'complete', metric='cityblock')\n",
    "\n",
    "fig, ax = plt.subplots(figsize=(15, 10))\n",
    "plt.rcParams['font.family'] = 'Meiryo'\n",
    "dn = scipy.cluster.hierarchy.dendrogram(Z, labels=df['Prefecture'].tolist()[2:], ax=ax)\n",
    "ax.set_ylabel(\"Distance\")\n",
    "plt.show()"
   ]
  },
  {
   "cell_type": "code",
   "execution_count": 40,
   "metadata": {},
   "outputs": [
    {
     "data": {
      "image/png": "[encoded data removed]",
      "text/plain": [
       "<Figure size 1080x720 with 1 Axes>"
      ]
     },
     "metadata": {
      "needs_background": "light"
     },
     "output_type": "display_data"
    }
   ],
   "source": [
    "# Ward method\n",
    "Z = scipy.cluster.hierarchy.linkage(X, 'ward', metric='euclidean')\n",
    "\n",
    "fig, ax = plt.subplots(figsize=(15, 10))\n",
    "plt.rcParams['font.family'] = 'Meiryo'\n",
    "dn = scipy.cluster.hierarchy.dendrogram(Z, labels=df['Prefecture'].tolist()[2:], ax=ax)\n",
    "ax.set_ylabel(\"Distance\")\n",
    "plt.show()"
   ]
  }
 ],
 "metadata": {
  "interpreter": {
   "hash": "b7ae10b97bb231495cc870b3174b3e643dfb3c527b8fdb0f4a482b254f533b40"
  },
  "kernelspec": {
   "display_name": "Python 3.8.8 ('base')",
   "language": "python",
   "name": "python3"
  },
  "language_info": {
   "codemirror_mode": {
    "name": "ipython",
    "version": 3
   },
   "file_extension": ".py",
   "mimetype": "text/x-python",
   "name": "python",
   "nbconvert_exporter": "python",
   "pygments_lexer": "ipython3",
   "version": "3.8.8"
  },
  "orig_nbformat": 4
 },
 "nbformat": 4,
 "nbformat_minor": 2
}

{
 "cells": [
  {
   "cell_type": "markdown",
   "metadata": {},
   "source": [
    "# 12. Principal component analysis 1"
   ]
  },
  {
   "cell_type": "code",
   "execution_count": 1,
   "metadata": {},
   "outputs": [],
   "source": [
    "import numpy as np\n",
    "import pandas as pd\n",
    "import matplotlib.pyplot as plt"
   ]
  },
  {
   "cell_type": "markdown",
   "metadata": {},
   "source": [
    "## 12.6 Implementations "
   ]
  },
  {
   "cell_type": "code",
   "execution_count": 2,
   "metadata": {},
   "outputs": [],
   "source": [
    "X = np.array([[-7, -2], [-3, -3], [4, 1], [6, 4]])"
   ]
  },
  {
   "cell_type": "code",
   "execution_count": 3,
   "metadata": {},
   "outputs": [
    {
     "data": {
      "text/plain": [
       "PCA(n_components=2)"
      ]
     },
     "execution_count": 3,
     "metadata": {},
     "output_type": "execute_result"
    }
   ],
   "source": [
    "from sklearn.decomposition import PCA \n",
    "pca = PCA(n_components=2)\n",
    "pca.fit(X)"
   ]
  },
  {
   "cell_type": "code",
   "execution_count": 4,
   "metadata": {},
   "outputs": [
    {
     "data": {
      "text/plain": [
       "array([[-0.89920519, -0.43752718],\n",
       "       [ 0.43752718, -0.89920519]])"
      ]
     },
     "execution_count": 4,
     "metadata": {},
     "output_type": "execute_result"
    }
   ],
   "source": [
    "pca.components_ # Principal components"
   ]
  },
  {
   "cell_type": "code",
   "execution_count": 5,
   "metadata": {},
   "outputs": [
    {
     "data": {
      "text/plain": [
       "array([134.81512169,   5.18487831])"
      ]
     },
     "execution_count": 5,
     "metadata": {},
     "output_type": "execute_result"
    }
   ],
   "source": [
    "pca.singular_values_ ** 2 # Eigen values"
   ]
  },
  {
   "cell_type": "code",
   "execution_count": 6,
   "metadata": {},
   "outputs": [
    {
     "data": {
      "text/plain": [
       "array([[ 7.16949066, -1.26427988],\n",
       "       [ 4.0101971 ,  1.38503402],\n",
       "       [-4.03434793,  0.85090353],\n",
       "       [-7.14533984, -0.97165767]])"
      ]
     },
     "execution_count": 6,
     "metadata": {},
     "output_type": "execute_result"
    }
   ],
   "source": [
    "pca.transform(X)"
   ]
  },
  {
   "cell_type": "markdown",
   "metadata": {},
   "source": [
    "## 12.7 Exercise    "
   ]
  },
  {
   "cell_type": "code",
   "execution_count": 8,
   "metadata": {},
   "outputs": [
    {
     "name": "stdout",
     "output_type": "stream",
     "text": [
      "[[110  51]\n",
      " [ 51  30]]\n"
     ]
    }
   ],
   "source": [
    "X = np.array([[-7, -2], [-3, -3], [4, 1], [6, 4]])\n",
    "S = np.dot(X.T, X)\n",
    "print(S)"
   ]
  },
  {
   "cell_type": "code",
   "execution_count": 11,
   "metadata": {},
   "outputs": [
    {
     "name": "stdout",
     "output_type": "stream",
     "text": [
      "[134.81512169   5.18487831]\n",
      "[[ 0.89920519 -0.43752718]\n",
      " [ 0.43752718  0.89920519]]\n"
     ]
    }
   ],
   "source": [
    "values, vectors = np.linalg.eig(S)\n",
    "print(values)\n",
    "print(vectors)"
   ]
  },
  {
   "cell_type": "code",
   "execution_count": 30,
   "metadata": {},
   "outputs": [
    {
     "name": "stdout",
     "output_type": "stream",
     "text": [
      "the first principal component: [0.89920519 0.43752718]\n",
      "variance along the first principal component axis: 134.81512169239522\n",
      "the second principal component: [-0.43752718  0.89920519]\n",
      "variance along the second principal component axis: 5.184878307604791\n"
     ]
    }
   ],
   "source": [
    "print(f'the first principal component: {vectors[:, 0]}')\n",
    "print(f'variance along the first principal component axis: {values[0]}')\n",
    "print(f'the second principal component: {vectors[:, 1]}')\n",
    "print(f'variance along the second principal component axis: {values[1]}')\n"
   ]
  },
  {
   "cell_type": "code",
   "execution_count": 31,
   "metadata": {},
   "outputs": [
    {
     "name": "stdout",
     "output_type": "stream",
     "text": [
      "principal component score:\n",
      " [[-7.16949066  1.26427988]\n",
      " [-4.0101971  -1.38503402]\n",
      " [ 4.03434793 -0.85090353]\n",
      " [ 7.14533984  0.97165767]]\n"
     ]
    }
   ],
   "source": [
    "first = np.dot(X, vectors[:, 0])\n",
    "second = np.dot(X, vectors[:, 1])\n",
    "print(f'principal component score:\\n {np.stack((first, second)).T}')"
   ]
  }
 ],
 "metadata": {
  "interpreter": {
   "hash": "b7ae10b97bb231495cc870b3174b3e643dfb3c527b8fdb0f4a482b254f533b40"
  },
  "kernelspec": {
   "display_name": "Python 3.8.8 ('base')",
   "language": "python",
   "name": "python3"
  },
  "language_info": {
   "codemirror_mode": {
    "name": "ipython",
    "version": 3
   },
   "file_extension": ".py",
   "mimetype": "text/x-python",
   "name": "python",
   "nbconvert_exporter": "python",
   "pygments_lexer": "ipython3",
   "version": "3.8.8"
  },
  "orig_nbformat": 4
 },
 "nbformat": 4,
 "nbformat_minor": 2
}

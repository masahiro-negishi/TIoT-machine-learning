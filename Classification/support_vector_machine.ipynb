{
 "cells": [
  {
   "cell_type": "markdown",
   "metadata": {},
   "source": [
    "# 9. Support vector machine"
   ]
  },
  {
   "cell_type": "code",
   "execution_count": 1,
   "metadata": {},
   "outputs": [],
   "source": [
    "import numpy as np\n",
    "import matplotlib.pyplot as plt"
   ]
  },
  {
   "cell_type": "code",
   "execution_count": 2,
   "metadata": {},
   "outputs": [],
   "source": [
    "def find_range(Xx, Xy):\n",
    "    xmin, xmax = Xx.min() - 0.1, Xx.max() + 0.1\n",
    "    ymin, ymax = Xy.min() - 0.1, Xy.max() + 0.1\n",
    "    if xmax - xmin < ymax - ymin:\n",
    "        xmid = (xmax + xmin) / 2\n",
    "        xmin = xmid - (ymax - ymin) / 2\n",
    "        xmax = xmid + (ymax - ymin) / 2\n",
    "    else:\n",
    "        ymid = (ymax + ymin) / 2\n",
    "        ymin = ymid - (xmax - xmin) / 2\n",
    "        ymax = ymid + (xmax - xmin) / 2\n",
    "    return ((xmin, xmax), (ymin, ymax))\n",
    "\n",
    "def init_graph(X, Y, dpi=100, figsize=(6,6)):\n",
    "    (xmin, xmax), (ymin, ymax) = find_range(X[:,0], X[:,1])\n",
    "    fig, ax = plt.subplots(dpi=dpi, figsize=figsize)\n",
    "    ax.set_xlabel('$x_1$')\n",
    "    ax.set_ylabel('$x_2$')\n",
    "    ax.set_xlim(xmin, xmax)\n",
    "    ax.set_ylim(ymin, ymax)\n",
    "    ax.set_aspect('equal')\n",
    "    return fig, ax\n",
    "\n",
    "def plot_data(ax, X, Y):\n",
    "    I = np.where(Y == -1)\n",
    "    ax.scatter(X[I,0], X[I,1], c='tab:blue', marker='_')\n",
    "    I = np.where(Y == 1)\n",
    "    ax.scatter(X[I,0], X[I,1], c='tab:red', marker='+')\n",
    "\n",
    "def draw_line(ax, wx, wy, b, ls, name='', color='tab:gray'):\n",
    "    def f(x, wx, xy, b):\n",
    "        return - wx / wy * x - b / wy\n",
    "    \n",
    "    x = np.array(ax.get_xlim())\n",
    "    y = f(x, wx, wy, b)\n",
    "    ax.plot(x, y, color=color, ls=ls, label=f'{name}')\n",
    "\n",
    "def draw_margins(ax, wx, wy, Xx, Xy, svn, svp, s=None):\n",
    "    length = np.sqrt(wx ** 2 + wy ** 2)\n",
    "    margin = 1 / length\n",
    "\n",
    "    for i in svn:\n",
    "        x, y = Xx[i], Xy[i]\n",
    "        ax.scatter([x], [y], s=s, facecolors='none', edgecolors='tab:blue')\n",
    "        ax.plot([x, x + wx * margin / length], [y, y + wy * margin / length], ls=':', color='tab:blue')\n",
    "        \n",
    "    for i in svp:\n",
    "        x, y = Xx[i], Xy[i]\n",
    "        ax.scatter([x], [y], s=s, facecolors='none', edgecolors='tab:red')\n",
    "        ax.plot([x, x - wx * margin / length], [y, y - wy * margin / length], ls=':', color='tab:red')\n",
    "\n",
    "def plot_support_vectors(ax, X, Y, svs, s=None):\n",
    "    for i in svs:\n",
    "        color = 'tab:red' if Y[i] == 1 else 'tab:blue'\n",
    "        ax.scatter([X[i][0]], [X[i][1]], s=s, facecolors='none', edgecolors=color)\n",
    "\n",
    "def draw_heatmap(ax, fig, X, Y, model, step=1, N=1024):\n",
    "    (xmin, xmax), (ymin, ymax) = find_range(X[:,0], X[:,1])\n",
    "    XX, YY = np.meshgrid(np.linspace(xmin, xmax, N), np.linspace(ymin, ymax, N))\n",
    "    XY = np.vstack([XX.ravel(), YY.ravel()]).T\n",
    "    C = model.decision_function(XY).reshape(XX.shape)\n",
    "\n",
    "    vmin, vmax = C.min(), C.max()\n",
    "    vmin = ((vmin // step) - 1) * step\n",
    "    vmax = ((vmax // step) + 1) * step\n",
    "    width = max(abs(vmin), abs(vmax))\n",
    "    \n",
    "    mesh = ax.pcolormesh(XX, YY, C, norm=matplotlib.colors.Normalize(vmin=-width, vmax=width), cmap='bwr', shading='auto', alpha=0.2)\n",
    "    cbar = fig.colorbar(mesh, ax=ax)\n",
    "    cbar.set_label('Output value')\n",
    "    \n",
    "    cont = ax.contour(XX, YY, C, colors='tab:gray', linewidths=0.5, linestyles='dashed', levels=np.arange(vmin, vmax+1, step))\n",
    "    cont.clabel(fmt='%1.1f')"
   ]
  },
  {
   "cell_type": "markdown",
   "metadata": {},
   "source": [
    "## 9.1 Linear model"
   ]
  },
  {
   "cell_type": "code",
   "execution_count": 3,
   "metadata": {},
   "outputs": [],
   "source": [
    "from sklearn.datasets import make_blobs\n",
    "X, Y = make_blobs(n_samples=50, centers=2, random_state=129, cluster_std=.6)\n",
    "Y = 2 * Y - 1"
   ]
  },
  {
   "cell_type": "code",
   "execution_count": 4,
   "metadata": {},
   "outputs": [
    {
     "data": {
      "image/png": "[encoded data removed]",
      "text/plain": [
       "<Figure size 600x600 with 1 Axes>"
      ]
     },
     "metadata": {
      "needs_background": "light"
     },
     "output_type": "display_data"
    }
   ],
   "source": [
    "fig, ax = init_graph(X, Y)\n",
    "plot_data(ax, X, Y)\n",
    "plt.show()"
   ]
  },
  {
   "cell_type": "code",
   "execution_count": null,
   "metadata": {},
   "outputs": [],
   "source": []
  }
 ],
 "metadata": {
  "interpreter": {
   "hash": "b7ae10b97bb231495cc870b3174b3e643dfb3c527b8fdb0f4a482b254f533b40"
  },
  "kernelspec": {
   "display_name": "Python 3.8.8 ('base')",
   "language": "python",
   "name": "python3"
  },
  "language_info": {
   "codemirror_mode": {
    "name": "ipython",
    "version": 3
   },
   "file_extension": ".py",
   "mimetype": "text/x-python",
   "name": "python",
   "nbconvert_exporter": "python",
   "pygments_lexer": "ipython3",
   "version": "3.8.8"
  },
  "orig_nbformat": 4
 },
 "nbformat": 4,
 "nbformat_minor": 2
}

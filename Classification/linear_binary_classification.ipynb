{
 "cells": [
  {
   "cell_type": "markdown",
   "metadata": {},
   "source": [
    "# 5. Linear binary classification"
   ]
  },
  {
   "cell_type": "code",
   "execution_count": 1,
   "metadata": {},
   "outputs": [],
   "source": [
    "import numpy as np\n",
    "import matplotlib.pyplot as plt"
   ]
  },
  {
   "cell_type": "markdown",
   "metadata": {},
   "source": [
    "## 5.9 Implement spam filter"
   ]
  },
  {
   "cell_type": "markdown",
   "metadata": {},
   "source": [
    "### 5.9.1 Download data"
   ]
  },
  {
   "cell_type": "code",
   "execution_count": 2,
   "metadata": {},
   "outputs": [],
   "source": [
    "import urllib.request\n",
    "filename, _ = urllib.request.urlretrieve(\n",
    "    'https://archive.ics.uci.edu/ml/machine-learning-databases/00228/smsspamcollection.zip',\n",
    "    'smsspamcollection.zip'\n",
    ")"
   ]
  },
  {
   "cell_type": "code",
   "execution_count": 3,
   "metadata": {},
   "outputs": [],
   "source": [
    "import zipfile\n",
    "with zipfile.ZipFile(filename, 'r') as fi:\n",
    "    fi.extractall('.')"
   ]
  },
  {
   "cell_type": "code",
   "execution_count": 4,
   "metadata": {},
   "outputs": [
    {
     "name": "stdout",
     "output_type": "stream",
     "text": [
      "ham\tGo until jurong point, crazy.. Available only in bugis n great world la e buffet... Cine there got amore wat...\n",
      "ham\tOk lar... Joking wif u oni...\n",
      "spam\tFree entry in 2 a wkly comp to win FA Cup final tkts 21st May 2005. Text FA to 87121 to receive entry question(std txt rate)T&C's apply 08452810075over18's\n",
      "ham\tU dun say so early hor... U c already then say...\n",
      "ham\tNah I don't think he goes to usf, he lives around here though\n",
      "spam\tFreeMsg Hey there darling it's been 3 week's now and no word back! I'd like some fun you up for it still? Tb ok! XxX std chgs to send, £1.50 to rcv\n",
      "ham\tEven my brother is not like to speak with me. They treat me like aids patent.\n",
      "ham\tAs per your request 'Melle Melle (Oru Minnaminunginte Nurungu Vettam)' has been set as your callertune for all Callers. Press *9 to copy your friends Callertune\n",
      "spam\tWINNER!! As a valued network customer you have been selected to receivea £900 prize reward! To claim call 09061701461. Claim code KL341. Valid 12 hours only.\n",
      "spam\tHad your mobile 11 months or more? U R entitled to Update to the latest colour mobiles with camera for Free! Call The Mobile Update Co FREE on 08002986030\n"
     ]
    }
   ],
   "source": [
    "with open('SMSSpamCollection', encoding=\"utf-8\") as fi:\n",
    "    for n, line in enumerate(fi):\n",
    "        if n < 10:\n",
    "            print(line, end='')\n",
    "        else:\n",
    "            break"
   ]
  },
  {
   "cell_type": "markdown",
   "metadata": {},
   "source": [
    "### 5.9.2 Load data"
   ]
  },
  {
   "cell_type": "code",
   "execution_count": 6,
   "metadata": {},
   "outputs": [],
   "source": [
    "import collections\n",
    "\n",
    "def tokenize(s):\n",
    "    # decompose sentences into words\n",
    "    return [t.rstrip('.') for t in s.split(' ')]\n",
    "\n",
    "def vectorize(tokens):\n",
    "    # count each word\n",
    "    return collections.Counter(tokens)\n",
    "\n",
    "def readiter(fi):\n",
    "    for line in fi:\n",
    "        fields = line.strip('\\n').split('\\t')\n",
    "        x = vectorize(tokenize(fields[1])) # wordcount for each word in the mail\n",
    "        y = fields[0] # label\n",
    "        yield x, y\n",
    "\n",
    "with open('SMSSpamCollection', encoding=\"utf-8\") as fi:\n",
    "    D = [d for d in readiter(fi)]"
   ]
  },
  {
   "cell_type": "code",
   "execution_count": 7,
   "metadata": {},
   "outputs": [
    {
     "data": {
      "text/plain": [
       "(Counter({'Even': 1,\n",
       "          'my': 1,\n",
       "          'brother': 1,\n",
       "          'is': 1,\n",
       "          'not': 1,\n",
       "          'like': 2,\n",
       "          'to': 1,\n",
       "          'speak': 1,\n",
       "          'with': 1,\n",
       "          'me': 2,\n",
       "          'They': 1,\n",
       "          'treat': 1,\n",
       "          'aids': 1,\n",
       "          'patent': 1}),\n",
       " 'ham')"
      ]
     },
     "execution_count": 7,
     "metadata": {},
     "output_type": "execute_result"
    }
   ],
   "source": [
    "D[6]"
   ]
  },
  {
   "cell_type": "code",
   "execution_count": 8,
   "metadata": {},
   "outputs": [],
   "source": [
    "from sklearn.model_selection import train_test_split \n",
    "Dtrain, Dtest = train_test_split(D, test_size=0.1, random_state=0)"
   ]
  },
  {
   "cell_type": "code",
   "execution_count": 10,
   "metadata": {},
   "outputs": [
    {
     "data": {
      "text/plain": [
       "(5016, 558)"
      ]
     },
     "execution_count": 10,
     "metadata": {},
     "output_type": "execute_result"
    }
   ],
   "source": [
    "len(Dtrain), len(Dtest)"
   ]
  },
  {
   "cell_type": "markdown",
   "metadata": {},
   "source": [
    "### 5.9.3 Convert each data to other formats"
   ]
  },
  {
   "cell_type": "code",
   "execution_count": 12,
   "metadata": {},
   "outputs": [],
   "source": [
    "from sklearn.preprocessing import LabelEncoder\n",
    "from sklearn.feature_extraction import DictVectorizer\n",
    "\n",
    "VX = DictVectorizer() # convert collections.Counter to sparce vector (scipy.Sparse)\n",
    "VY = LabelEncoder() # convert each label to integer\n",
    "\n",
    "Xtrain = VX.fit_transform([d[0] for d in Dtrain])\n",
    "Ytrain = VY.fit_transform([d[1] for d in Dtrain])\n",
    "Xtest = VX.transform([d[0] for d in Dtest])\n",
    "Ytest = VY.transform([d[1] for d in Dtest])"
   ]
  },
  {
   "cell_type": "code",
   "execution_count": 13,
   "metadata": {},
   "outputs": [
    {
     "name": "stdout",
     "output_type": "stream",
     "text": [
      "(Counter({'we': 3, 'it': 2, 'have': 2, 'I': 1, 'take': 1, \"didn't\": 1, 'the': 1, 'phone': 1, 'callon': 1, 'Friday': 1, 'Can': 1, 'assume': 1, \"won't\": 1, 'this': 1, 'year': 1, 'now?': 1}), 'ham')\n",
      "  (0, 1831)\t1.0\n",
      "  (0, 2385)\t1.0\n",
      "  (0, 2769)\t1.0\n",
      "  (0, 5546)\t1.0\n",
      "  (0, 6110)\t1.0\n",
      "  (0, 6923)\t1.0\n",
      "  (0, 8101)\t2.0\n",
      "  (0, 8587)\t2.0\n",
      "  (0, 9821)\t1.0\n",
      "  (0, 10231)\t1.0\n",
      "  (0, 11832)\t1.0\n",
      "  (0, 11957)\t1.0\n",
      "  (0, 12014)\t1.0\n",
      "  (0, 12653)\t3.0\n",
      "  (0, 12862)\t1.0\n",
      "  (0, 13030)\t1.0\n",
      "0\n"
     ]
    }
   ],
   "source": [
    "print(Dtrain[10])\n",
    "print(Xtrain[10])\n",
    "print(Ytrain[10])"
   ]
  },
  {
   "cell_type": "code",
   "execution_count": 14,
   "metadata": {},
   "outputs": [
    {
     "name": "stdout",
     "output_type": "stream",
     "text": [
      "we\n",
      "['ham' 'spam']\n"
     ]
    }
   ],
   "source": [
    "print(VX.feature_names_[12653])\n",
    "print(VY.classes_)"
   ]
  },
  {
   "cell_type": "markdown",
   "metadata": {},
   "source": [
    "### 5.9.4 Fit logistic regression model to data by SGD method"
   ]
  },
  {
   "cell_type": "code",
   "execution_count": 15,
   "metadata": {},
   "outputs": [
    {
     "data": {
      "text/plain": [
       "SGDClassifier(loss='log')"
      ]
     },
     "execution_count": 15,
     "metadata": {},
     "output_type": "execute_result"
    }
   ],
   "source": [
    "from sklearn.linear_model import SGDClassifier \n",
    "model = SGDClassifier(loss='log')\n",
    "model.fit(Xtrain, Ytrain)"
   ]
  },
  {
   "cell_type": "markdown",
   "metadata": {},
   "source": [
    "### 5.9.5 Prediction and model evaluation"
   ]
  },
  {
   "cell_type": "code",
   "execution_count": 16,
   "metadata": {},
   "outputs": [
    {
     "data": {
      "text/plain": [
       "array([0], dtype=int64)"
      ]
     },
     "execution_count": 16,
     "metadata": {},
     "output_type": "execute_result"
    }
   ],
   "source": [
    "model.predict(Xtest[0])"
   ]
  },
  {
   "cell_type": "code",
   "execution_count": 17,
   "metadata": {},
   "outputs": [
    {
     "data": {
      "text/plain": [
       "array([[0.99454788, 0.00545212]])"
      ]
     },
     "execution_count": 17,
     "metadata": {},
     "output_type": "execute_result"
    }
   ],
   "source": [
    "model.predict_proba(Xtest[0])"
   ]
  },
  {
   "cell_type": "code",
   "execution_count": 18,
   "metadata": {},
   "outputs": [
    {
     "data": {
      "text/plain": [
       "0.9731182795698925"
      ]
     },
     "execution_count": 18,
     "metadata": {},
     "output_type": "execute_result"
    }
   ],
   "source": [
    "# Accuracy\n",
    "# (TN + TP) / (TN + TP + FN + FP)\n",
    "model.score(Xtest, Ytest)"
   ]
  },
  {
   "cell_type": "code",
   "execution_count": 19,
   "metadata": {},
   "outputs": [
    {
     "data": {
      "text/plain": [
       "array([[0.2194571, 0.7805429]])"
      ]
     },
     "execution_count": 19,
     "metadata": {},
     "output_type": "execute_result"
    }
   ],
   "source": [
    "# Apply model to a new input\n",
    "msg = \"Your account has been credited with 500 FREE Text Messages.\"\n",
    "model.predict_proba(VX.transform(vectorize(tokenize(msg))))"
   ]
  },
  {
   "cell_type": "markdown",
   "metadata": {},
   "source": [
    "### 5.9.6 Check model parameter"
   ]
  },
  {
   "cell_type": "code",
   "execution_count": 20,
   "metadata": {},
   "outputs": [
    {
     "data": {
      "text/plain": [
       "array([[-0.87028695, -0.24992692, -0.00955703, ...,  0.23285088,\n",
       "        -0.15255926, -0.00234113]])"
      ]
     },
     "execution_count": 20,
     "metadata": {},
     "output_type": "execute_result"
    }
   ],
   "source": [
    "model.coef_"
   ]
  },
  {
   "cell_type": "code",
   "execution_count": 21,
   "metadata": {},
   "outputs": [],
   "source": [
    "F = sorted(zip(VX.feature_names_, model.coef_[0]), key=lambda x: x[1])"
   ]
  },
  {
   "cell_type": "code",
   "execution_count": 23,
   "metadata": {},
   "outputs": [
    {
     "data": {
      "text/plain": [
       "[('me', -1.194638109049447),\n",
       " ('&lt;#&gt;', -1.0749890334061118),\n",
       " ('him', -1.0744443600719897),\n",
       " (\"I'll\", -1.0549658603306475),\n",
       " ('I', -1.0165661117902196),\n",
       " ('i', -0.9667037491192448),\n",
       " ('Its', -0.9182350542387557),\n",
       " ('my', -0.9019855179546786),\n",
       " ('good', -0.8805952607782656),\n",
       " ('ask', -0.8717738880799215),\n",
       " ('', -0.870286951189069),\n",
       " ('What', -0.861321765698758),\n",
       " ('And', -0.8514916544747598),\n",
       " ('way', -0.8376640493879023),\n",
       " ('Happy', -0.8364719148845247),\n",
       " ('something', -0.8360421876667266),\n",
       " ('u', -0.803753016778358),\n",
       " ('Yes', -0.7993034259531921),\n",
       " ('still', -0.7849465723548167),\n",
       " ('always', -0.7844191941847404)]"
      ]
     },
     "execution_count": 23,
     "metadata": {},
     "output_type": "execute_result"
    }
   ],
   "source": [
    "F[:20] # if a SMS contains these words, it tend to be regarded as \"ham\" "
   ]
  },
  {
   "cell_type": "code",
   "execution_count": 25,
   "metadata": {},
   "outputs": [
    {
     "data": {
      "text/plain": [
       "[('FREE>Ringtone!Reply', 1.4981841204024866),\n",
       " ('To', 1.5897534636196589),\n",
       " ('Reply', 1.5932434796860635),\n",
       " ('-', 1.6069742027512757),\n",
       " ('Text', 1.617982301285652),\n",
       " (\"let's\", 1.646270972909076),\n",
       " ('84484', 1.7236123342228586),\n",
       " ('ringtoneking', 1.7236123342228586),\n",
       " ('146tf150p', 1.7346711881330812),\n",
       " ('2/2', 1.7346711881330812),\n",
       " ('text', 1.8075763801739368),\n",
       " ('service', 1.8396200086776857),\n",
       " ('won', 1.8445201633856914),\n",
       " ('mobile', 1.9577346787946288),\n",
       " ('&', 1.9911340715306087),\n",
       " ('STOP', 2.0132017317644375),\n",
       " ('txt', 2.0157868310297453),\n",
       " ('now!', 2.0634541524171204),\n",
       " ('Txt', 2.0930732307338555),\n",
       " ('Call', 2.37362002879792)]"
      ]
     },
     "execution_count": 25,
     "metadata": {},
     "output_type": "execute_result"
    }
   ],
   "source": [
    "F[-20:] # if a SMS contains these words, it tend to be regarded as \"spam\" \n"
   ]
  },
  {
   "cell_type": "markdown",
   "metadata": {},
   "source": [
    "## 5.10 Exercise"
   ]
  },
  {
   "cell_type": "code",
   "execution_count": 102,
   "metadata": {},
   "outputs": [],
   "source": [
    "# implement logistic model with SGD method\n",
    "# Use the same Xtrain, Ytrain, Xtest, Ytest as 5.9\n",
    "\n",
    "def sigmoid(a):\n",
    "    if a >= 0:\n",
    "        return 1 / (1 + np.exp(-a))\n",
    "    else:\n",
    "        return 1 - 1 / (1 + np.exp(a))\n",
    "\n",
    "\n",
    "def log_sgd(Xtrain, Ytrain, max_epochs=400000, lr0=0.03, eps=1e-5):\n",
    "    N = Xtrain.shape[0]\n",
    "    w = np.zeros(len(VX.feature_names_)) # parameter\n",
    "    for t in range(max_epochs):\n",
    "        lr = lr0 / np.sqrt(t + 1) # learning rate\n",
    "        i = np.random.randint(0, N)\n",
    "        pt = sigmoid((Xtrain[i] @ w)[0])\n",
    "        grad = -(Ytrain[i] - pt) * Xtrain[i] # gradient\n",
    "        if np.sum(np.abs(grad)) < eps:\n",
    "            break\n",
    "        w -= lr * grad.toarray()[0] # update parameter\n",
    "    return w, t\n",
    "\n",
    "\n",
    "def accuracy(Xtest, Ytest, w):\n",
    "    N = Xtest.shape[0]\n",
    "    correct = 0\n",
    "    for i in range(N):\n",
    "        wx = (Xtest[i] @ w)[0]\n",
    "        if (wx > 0 & Ytest[i] == 1) | (wx < 0 & Ytest[i] == 0):\n",
    "            correct += 1\n",
    "    return correct / N\n",
    "        \n",
    "\n"
   ]
  },
  {
   "cell_type": "code",
   "execution_count": 103,
   "metadata": {},
   "outputs": [
    {
     "name": "stdout",
     "output_type": "stream",
     "text": [
      "loop num : 22808\n"
     ]
    }
   ],
   "source": [
    "w, t = log_sgd(Xtrain, Ytrain, max_epochs=100000)\n",
    "print(f'loop num : {t}')"
   ]
  },
  {
   "cell_type": "code",
   "execution_count": 104,
   "metadata": {},
   "outputs": [
    {
     "name": "stdout",
     "output_type": "stream",
     "text": [
      "accuracy : 0.9587813620071685\n"
     ]
    }
   ],
   "source": [
    "# Accuracy\n",
    "print(f'accuracy : {accuracy(Xtest, Ytest, w)}')"
   ]
  },
  {
   "cell_type": "code",
   "execution_count": 105,
   "metadata": {},
   "outputs": [],
   "source": [
    "F = sorted(zip(VX.feature_names_, w), key=lambda x: x[1])"
   ]
  },
  {
   "cell_type": "code",
   "execution_count": 106,
   "metadata": {},
   "outputs": [
    {
     "data": {
      "text/plain": [
       "[('I', -0.5057903348095482),\n",
       " ('you', -0.4484355483823495),\n",
       " ('i', -0.32578881136785337),\n",
       " ('', -0.3152527662234237),\n",
       " ('u', -0.26173899941214723),\n",
       " ('me', -0.25197415357438024),\n",
       " ('in', -0.25193862282627605),\n",
       " ('my', -0.23806125125348165),\n",
       " ('the', -0.23222304945330213),\n",
       " ('it', -0.190065643677985),\n",
       " ('and', -0.18942464709828516),\n",
       " ('that', -0.17279321755165747),\n",
       " ('is', -0.14858685869998972),\n",
       " (\"I'm\", -0.13913598468995092),\n",
       " ('at', -0.13890915033755252),\n",
       " ('not', -0.12581018430000693),\n",
       " ('be', -0.11221464347553248),\n",
       " ('but', -0.1118362789582083),\n",
       " ('to', -0.11082681947534066),\n",
       " ('Ok', -0.10943764106786377)]"
      ]
     },
     "execution_count": 106,
     "metadata": {},
     "output_type": "execute_result"
    }
   ],
   "source": [
    "F[:20] # if a SMS contains these words, it tend to be regarded as \"ham\""
   ]
  },
  {
   "cell_type": "code",
   "execution_count": 107,
   "metadata": {},
   "outputs": [
    {
     "data": {
      "text/plain": [
       "[('call', 0.037844736240140564),\n",
       " ('Text', 0.03797698973181187),\n",
       " ('now!', 0.0393851157161856),\n",
       " ('-', 0.03968963275758024),\n",
       " ('text', 0.042381186331310064),\n",
       " ('Your', 0.042857278466695486),\n",
       " ('won', 0.050488142691532456),\n",
       " ('contact', 0.05099825015131854),\n",
       " ('STOP', 0.05392127664940743),\n",
       " ('from', 0.05436170634800177),\n",
       " ('Txt', 0.05441386892418338),\n",
       " ('txt', 0.06269217325152589),\n",
       " ('or', 0.06423881699338911),\n",
       " ('prize', 0.06691027880392306),\n",
       " ('To', 0.06947837603181871),\n",
       " ('mobile', 0.07551175673683519),\n",
       " ('claim', 0.08141343474069138),\n",
       " ('&', 0.0831991159607921),\n",
       " ('FREE', 0.09942219487226042),\n",
       " ('Call', 0.11928860930264168)]"
      ]
     },
     "execution_count": 107,
     "metadata": {},
     "output_type": "execute_result"
    }
   ],
   "source": [
    "F[-20:] # if a SMS contains these words, it tend to be regarded as \"spam\""
   ]
  }
 ],
 "metadata": {
  "interpreter": {
   "hash": "b7ae10b97bb231495cc870b3174b3e643dfb3c527b8fdb0f4a482b254f533b40"
  },
  "kernelspec": {
   "display_name": "Python 3.8.8 ('base')",
   "language": "python",
   "name": "python3"
  },
  "language_info": {
   "codemirror_mode": {
    "name": "ipython",
    "version": 3
   },
   "file_extension": ".py",
   "mimetype": "text/x-python",
   "name": "python",
   "nbconvert_exporter": "python",
   "pygments_lexer": "ipython3",
   "version": "3.8.8"
  },
  "orig_nbformat": 4
 },
 "nbformat": 4,
 "nbformat_minor": 2
}
